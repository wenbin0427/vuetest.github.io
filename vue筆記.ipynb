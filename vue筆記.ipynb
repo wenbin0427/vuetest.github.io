{
 "cells": [
  {
   "cell_type": "markdown",
   "id": "d2f5be81",
   "metadata": {},
   "source": [
    "# Vue筆記\n",
    "\n",
    "[Makedown語法](https://hackmd.io/@eMP9zQQ0Qt6I8Uqp2Vqy6w/SyiOheL5N/%2FzMIQV80gSiGGkKk1sa8HZA)"
   ]
  },
  {
   "cell_type": "markdown",
   "id": "2d395703",
   "metadata": {},
   "source": [
    "<hr style=\"border:solid 2px green\">"
   ]
  },
  {
   "cell_type": "markdown",
   "id": "6cc8dab0",
   "metadata": {},
   "source": [
    "### 引入vue\n",
    "```html\n",
    "<script src=\"https://cdn.jsdelivr.net/npm/vue@2.6.14/dist/vue.js\"></script>\n",
    "```"
   ]
  },
  {
   "cell_type": "markdown",
   "id": "3d7614db",
   "metadata": {},
   "source": [
    "### Vue常見基本指令\n",
    "1. v-bind：綁定html屬性 <a href=#v-bind>前往\n",
    "2. v-model：雙向數據綁定 <a href=#v-model>前往\n",
    "3. v-for：循環渲染 <a href=#v-for>前往\n",
    "4. v-if：條件渲染 <a href=#v-if>前往\n",
    "5. v-on：事件綁定 <a href=#v-on>前往"
   ]
  },
  {
   "cell_type": "markdown",
   "id": "6b205bca",
   "metadata": {},
   "source": [
    "### Vue架構\n",
    "```js\n",
    "\n",
    "    Vue.component('my-component', {\n",
    "        template: '<p>這是自定義組件!</p>'\n",
    "    });\n",
    "\n",
    "    new Vue({\n",
    "        el:'#app', \n",
    "        data:{      \n",
    "            message:'Hello,vue!', \n",
    "            modeltest:'雙向綁定測試',\n",
    "            url:'https://www.google.com.tw',\n",
    "            items: [\n",
    "                { id: 1, text: '項目 1',price:7000, },\n",
    "                { id: 2, text: '項目 2',price:8000,},\n",
    "                { id: 3, text: '項目 3',price:9000, }\n",
    "            ],\n",
    "        },\n",
    "        methods:{\n",
    "            changeMessage() {\n",
    "                this.message = '你好，Vue！';\n",
    "            },\n",
    "        },\n",
    "        computed:{\n",
    "            final_price(){\n",
    "                return this.items.price*0.9;\n",
    "            },\n",
    "        },\n",
    "    });\n",
    "```\n",
    "\n",
    "### 架構解釋\n",
    "程式|解釋|備註\n",
    ":----:|:----|:----|\n",
    "el|Vue  實例的掛載點div上要掛id #app|掛載的id可以自己決定\n",
    "data|data 內是可以用來返回一個參數或是可以定義items等等...|data內有許多種用法可參考下方\n",
    "methods|methods內可以定義多個用途如`架構`內的changeMessage()|methods定義的東西不一定要有回傳值\n",
    "computed|用來計算用的函釋|一定要有回傳值\n",
    "component|自定義的組件|使用時要`<my-component></my-component>`\n",
    "\n",
    "### 架構內自訂內容解釋\n",
    "程式|解釋|備註\n",
    ":----:|:----|:----|\n",
    "message|定義原始顯示的數據|寫在data內可以自訂內容\n",
    "modeltest|雙向綁定測試|寫在data內可以自訂內容\n",
    "url|定義連結|寫在data內可以自訂內容\n",
    "items|清單|寫在data內可以自訂內容使用 v-for=\"item in items\"可以回傳內容\n",
    "changeMessage()|用在按鈕上可以回傳message內容\n",
    "final_price()|回傳輸入的數值打九折|輸入框要使用v-model綁定"
   ]
  },
  {
   "cell_type": "markdown",
   "id": "434e2303",
   "metadata": {},
   "source": [
    "<hr style=\"border:solid 2px green\">"
   ]
  },
  {
   "attachments": {},
   "cell_type": "markdown",
   "id": "ca083546",
   "metadata": {},
   "source": [
    "### v-bind\n",
    "- v-bind兩種寫法\n",
    "```html\n",
    "    <p v-bind:title=\"message\">將滑鼠放在我上面看見message定義的訊息</p>\n",
    "    <p :title=\"message\">將滑鼠放在我上面看見message定義的訊息</p>\n",
    "```\n",
    "\n",
    "### Vue語法\n",
    "```js\n",
    "data: {\n",
    "        message: 'Hello, Vue!', // 定義原始顯示數據\n",
    "}\n",
    "```\n",
    "\n",
    "### 使用結果\n",
    "<img src=\"https://wenbin0427.github.io/vuetest.github.io/img/v-bind.png\">"
   ]
  },
  {
   "cell_type": "markdown",
   "id": "3693e628",
   "metadata": {},
   "source": [
    "<hr style=\"border:solid 2px green\">"
   ]
  },
  {
   "attachments": {},
   "cell_type": "markdown",
   "id": "222fd8d6",
   "metadata": {},
   "source": [
    "### v-model\n",
    "- v-model寫法\n",
    "```html\n",
    "    <input v-model=\"modeltest\" placeholder=\"輸入訊息\">\n",
    "    <p>輸入的訊息：{{ modeltest }}</p>\n",
    "```\n",
    "### Vue語法\n",
    "```js\n",
    "data: {\n",
    "        modeltest:'雙向綁定',\n",
    "},\n",
    "```\n",
    "### 使用結果\n",
    "- 預設的modeltest參數是`雙向綁定`\n",
    "<img src=\"https://wenbin0427.github.io/vuetest.github.io/img/v-model-1.png\">\n",
    "- 輸入框輸入`Hello,Vue` `<p>`也會同步變動\n",
    "<img src=\"https://wenbin0427.github.io/vuetest.github.io/img/v-model-2.png\">"
   ]
  },
  {
   "cell_type": "markdown",
   "id": "960c2207",
   "metadata": {},
   "source": [
    "<hr style=\"border:solid 2px green\">"
   ]
  },
  {
   "attachments": {},
   "cell_type": "markdown",
   "id": "43fb340b",
   "metadata": {},
   "source": [
    "### v-for\n",
    "- v-for寫法\n",
    "```html\n",
    "    <ul v-for=\"item in items\" :key=\"item.id\">\n",
    "        <li>項目：{{ item.text }}</li>\n",
    "        <li>價錢：{{ item.price }}</li>\n",
    "        // 使用{{item.text}}可以取的item內的數值\n",
    "    </ul>\n",
    "```\n",
    "### Vue語法\n",
    "```js\n",
    "data: {\n",
    "    items: [\n",
    "        { id: 1, text: '項目 1',price:7000, },\n",
    "        { id: 2, text: '項目 2',price:8000,},\n",
    "        { id: 3, text: '項目 3',price:9000, }\n",
    "    ],\n",
    "},\n",
    "```\n",
    "### 使用結果\n",
    "- v-for的結果是會跑過一整列才會繼續下一筆\n",
    "<img src=\"https://wenbin0427.github.io/vuetest.github.io/img/v-for.png\">"
   ]
  },
  {
   "cell_type": "markdown",
   "id": "2b129bbf",
   "metadata": {},
   "source": [
    "<hr style=\"border:solid 2px green\">"
   ]
  },
  {
   "cell_type": "markdown",
   "id": "b4520602",
   "metadata": {},
   "source": [
    "### v-if\n",
    "- v-if寫法\n",
    "- v-if是用來判斷true及false\n",
    "```html\n",
    "    <p v-if=\"isLoggedIn\">歡迎回來Vue！</p>\n",
    "    <p v-else>請點擊登入。</p>\n",
    "    <button @click=\"toggleLoginStatus\">登入</button>\n",
    "```\n",
    "### Vue語法\n",
    "```js\n",
    "    data: {\n",
    "        isLoggedIn: false,\n",
    "    },\n",
    "    \n",
    "\n",
    "    methods:{\n",
    "        toggleLoginStatus() {\n",
    "            this.isLoggedIn = !this.isLoggedIn;\n",
    "        }\n",
    "    }\n",
    "    \n",
    "```\n",
    "### 使用結果\n",
    "- isLoggedIn的預設結果為false\n",
    "<img src=\"https://wenbin0427.github.io/vuetest.github.io/img/v-if-1.png\">\n",
    "- 按下按鈕後會改變isLoggedIn的false為true則`顯示歡迎回來Vue！`\n",
    "<img src=\"https://wenbin0427.github.io/vuetest.github.io/img/v-if-2.png\">"
   ]
  },
  {
   "cell_type": "markdown",
   "id": "bad5b940",
   "metadata": {},
   "source": [
    "<hr style=\"border:solid 2px green\">"
   ]
  },
  {
   "cell_type": "markdown",
   "id": "d3f20970",
   "metadata": {},
   "source": [
    "### v-if進階\n",
    "- vue中v-if可以跟v-for同時使用，但v-if的優先級高於v-for\n",
    "```html\n",
    "  <ul>\n",
    "    <li v-for=\"item in items\" v-if=\"item.isVisible\">{{ item.name }}</li>\n",
    "  </ul>\n",
    "  <button @click=\"toggleitem\">顯示</button>\n",
    "\n",
    "```\n",
    "### Vue語法\n",
    "```js\n",
    "    data: {\n",
    "        items: [\n",
    "            { id: 1, text: '項目 1',price:7000,name:'阿哈哈1',isVisible: true},\n",
    "            { id: 2, text: '項目 2',price:8000,name:'阿哈哈2',isVisible: true},\n",
    "            { id: 3, text: '項目 3',price:9000,name:'阿哈哈3',isVisible: true}\n",
    "          ],    \n",
    "    },\n",
    "    \n",
    "\n",
    "    methods:{\n",
    "        toggleitem(){\n",
    "            this.items.forEach(item => {\n",
    "                item.isVisible = !item.isVisible;\n",
    "            });\n",
    "    }\n",
    "    \n",
    "```\n",
    "### 使用結果\n",
    "- item是一個陣列因此在vue要用forEach去存取整個itme\n",
    "- isVisible的預設結果為true因此不會顯示任何東西\n",
    "<img src=\"https://wenbin0427.github.io/vuetest.github.io/img/v-ifafor-1.png\">\n",
    "- isVisible為false時將顯示整個itme.name\n",
    "<img src=\"https://wenbin0427.github.io/vuetest.github.io/img/v-ifafor-2.png\">"
   ]
  },
  {
   "cell_type": "markdown",
   "id": "996dc189",
   "metadata": {},
   "source": [
    "<hr style=\"border:solid 2px green\">"
   ]
  },
  {
   "cell_type": "markdown",
   "id": "f29ada61",
   "metadata": {},
   "source": [
    "### v-on\n",
    "- v-on兩種寫法\n",
    "```html \n",
    "    <button @click=\"changeMessage\">v-on事件綁定的簡寫</button>\n",
    "    <button v-on:click=\"changeMessage\">v-on事件綁定的一般寫法</button>\n",
    "\n",
    "```\n",
    "### Vue語法\n",
    "```js\n",
    "    data: {\n",
    "      message:'Hello,Vue!',\n",
    "    },\n",
    "    \n",
    "\n",
    "    methods:{\n",
    "        changeMessage() {\n",
    "            this.message = '你好，Vue！'; // 改變p顯示的數據\n",
    "        },\n",
    "    }\n",
    "    \n",
    "```\n",
    "### 使用結果\n",
    "- 還未按下按鈕\n",
    "<img src=\"https://wenbin0427.github.io/vuetest.github.io/img/v-on-1.png\">\n",
    "- 按下按鈕\n",
    "<img src=\"https://wenbin0427.github.io/vuetest.github.io/img/v-on-2.png\">"
   ]
  },
  {
   "cell_type": "markdown",
   "id": "3c013fa3",
   "metadata": {},
   "source": [
    "<hr style=\"border:solid 2px green\">"
   ]
  },
  {
   "cell_type": "markdown",
   "id": "11f365cf",
   "metadata": {},
   "source": [
    "# Vue Cli筆記\n",
    "\n",
    "- 參考資料\n",
    "    - [Vue Cli安裝](https://medium.com/web-design-zone/vue-js-%E4%BD%BF%E7%94%A8vue-cli%E5%AE%89%E8%A3%9D-vue3-f54d05ef348e \"游標顯示\")"
   ]
  },
  {
   "cell_type": "markdown",
   "id": "b7e78769",
   "metadata": {},
   "source": [
    "<hr style=\"border:solid 2px green\">"
   ]
  },
  {
   "attachments": {},
   "cell_type": "markdown",
   "id": "90ab316d",
   "metadata": {},
   "source": [
    "### Vue Cli起手式\n",
    "\n",
    "#### 安裝Vue Cli\n",
    "1. [安裝Node.js](https://nodejs.org/en/download/prebuilt-installer)\n",
    "2. 使用終端機安裝Vue Cli\n",
    "    - `npm install -g @vue/cli`\n",
    "3. 檢查是否安裝成功\n",
    "    - `vue -v`\n",
    "\n",
    "#### 建立專案\n",
    "1. 使用終端機透過CD進入指定目錄\n",
    "2. 輸入`vue create my-project`建立專案\n",
    "3. Vue Cli會詢問要建立哪種專案有三種Vue2、Vue3、自訂\n",
    "<img src=\"https://wenbin0427.github.io/vuetest.github.io/img/install1.png\">\n",
    "4. 手動設定的話可以選擇要那些項目(使用空白鍵選擇、上下鍵來移動)\n",
    "<img src=\"https://wenbin0427.github.io/vuetest.github.io/img/install2.png\">\n",
    "\n"
   ]
  },
  {
   "attachments": {
    "image.png": {
     "image/png": "[encoded data removed]"
    }
   },
   "cell_type": "markdown",
   "id": "5fddf22f",
   "metadata": {},
   "source": [
    "![image.png](attachment:image.png)"
   ]
  },
  {
   "cell_type": "markdown",
   "id": "548299ea",
   "metadata": {},
   "source": []
  },
  {
   "cell_type": "markdown",
   "id": "d774f8a7",
   "metadata": {},
   "source": []
  },
  {
   "cell_type": "markdown",
   "id": "ef4dc292",
   "metadata": {},
   "source": []
  },
  {
   "cell_type": "markdown",
   "id": "c5ee1ea9",
   "metadata": {},
   "source": []
  },
  {
   "cell_type": "markdown",
   "id": "03530b02",
   "metadata": {},
   "source": []
  },
  {
   "cell_type": "markdown",
   "id": "6baea96b",
   "metadata": {},
   "source": []
  },
  {
   "cell_type": "markdown",
   "id": "00bcf38c",
   "metadata": {},
   "source": []
  },
  {
   "cell_type": "markdown",
   "id": "a0b5dc8a",
   "metadata": {},
   "source": []
  },
  {
   "cell_type": "markdown",
   "id": "3c3e4f51",
   "metadata": {},
   "source": []
  },
  {
   "cell_type": "markdown",
   "id": "68992f68",
   "metadata": {},
   "source": []
  },
  {
   "cell_type": "markdown",
   "id": "caf85214",
   "metadata": {},
   "source": []
  },
  {
   "cell_type": "markdown",
   "id": "8ac399cb",
   "metadata": {},
   "source": []
  },
  {
   "cell_type": "markdown",
   "id": "6c5d3970",
   "metadata": {},
   "source": []
  }
 ],
 "metadata": {
  "kernelspec": {
   "display_name": "Python 3 (ipykernel)",
   "language": "python",
   "name": "python3"
  },
  "language_info": {
   "codemirror_mode": {
    "name": "ipython",
    "version": 3
   },
   "file_extension": ".py",
   "mimetype": "text/x-python",
   "name": "python",
   "nbconvert_exporter": "python",
   "pygments_lexer": "ipython3",
   "version": "3.11.5"
  }
 },
 "nbformat": 4,
 "nbformat_minor": 5
}
